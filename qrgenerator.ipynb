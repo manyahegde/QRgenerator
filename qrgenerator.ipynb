{
 "cells": [
  {
   "cell_type": "code",
   "execution_count": 1,
   "id": "50728d2a",
   "metadata": {},
   "outputs": [
    {
     "name": "stdout",
     "output_type": "stream",
     "text": [
      "Collecting qrcode\n",
      "  Using cached qrcode-7.4.2-py3-none-any.whl (46 kB)\n",
      "Requirement already satisfied: typing-extensions in c:\\users\\hp\\anaconda3\\lib\\site-packages (from qrcode) (4.3.0)\n",
      "Collecting pypng\n",
      "  Using cached pypng-0.20220715.0-py3-none-any.whl (58 kB)\n",
      "Requirement already satisfied: colorama in c:\\users\\hp\\anaconda3\\lib\\site-packages (from qrcode) (0.4.5)\n",
      "Installing collected packages: pypng, qrcode\n",
      "Successfully installed pypng-0.20220715.0 qrcode-7.4.2\n"
     ]
    }
   ],
   "source": [
    "!pip install qrcode"
   ]
  },
  {
   "cell_type": "code",
   "execution_count": 7,
   "id": "5a10eeaf",
   "metadata": {},
   "outputs": [],
   "source": [
    "import qrcode\n",
    "from tkinter import *\n",
    "from tkinter import messagebox"
   ]
  },
  {
   "cell_type": "code",
   "execution_count": 8,
   "id": "c715bab0",
   "metadata": {},
   "outputs": [],
   "source": [
    "#Creating the window\n",
    "wn = Tk()\n",
    "wn.title('QR CODE GENERATOR')\n",
    "wn.geometry('700x700')\n",
    "wn.config(bg='Black')"
   ]
  },
  {
   "cell_type": "code",
   "execution_count": 9,
   "id": "05db6633",
   "metadata": {},
   "outputs": [],
   "source": [
    "#Function to generate the QR code and save it\n",
    "def generateCode():\n",
    "  #Creating a QRCode object of the size specified by the user\n",
    "  qr = qrcode.QRCode(version = size.get(),\n",
    "            box_size = 10,\n",
    "            border = 5)\n",
    "  qr.add_data(text.get()) #Adding the data to be encoded to the QRCode object\n",
    "  qr.make(fit = True) #Making the entire QR Code space utilized\n",
    "  img = qr.make_image() #Generating the QR Code\n",
    "  fileDirec=loc.get()+'\\\\'+name.get() #Getting the directory where the file has to be save\n",
    "  img.save(f'{fileDirec}.png') #Saving the QR Code\n",
    "  #Showing the pop up message on saving the file\n",
    "  messagebox.showinfo(\"QR Code Generator\",\"QR Code is saved Successfully!!\")"
   ]
  },
  {
   "cell_type": "code",
   "execution_count": 10,
   "id": "79fbee9f",
   "metadata": {},
   "outputs": [],
   "source": [
    "#Label for the window\n",
    "headingFrame = Frame(wn,bg=\"azure\",bd=5)\n",
    "headingFrame.place(relx=0.15,rely=0.05,relwidth=0.7,relheight=0.1)\n",
    "headingLabel = Label(headingFrame, text=\"Generate QR Code with DataFlair\", bg='Yellow', font=('Times',20,'bold'))\n",
    "headingLabel.place(relx=0,rely=0, relwidth=1, relheight=1)"
   ]
  },
  {
   "cell_type": "code",
   "execution_count": 11,
   "id": "94f21257",
   "metadata": {},
   "outputs": [],
   "source": [
    "#Taking the input of the text or URL to get QR code\n",
    "Frame1 = Frame(wn,bg=\"Black\")\n",
    "Frame1.place(relx=0.1,rely=0.15,relwidth=0.7,relheight=0.3)\n",
    "\n",
    "label1 = Label(Frame1,text=\"Enter the text/URL: \",bg=\"Black\",fg='azure',font=('Courier',13,'bold'))\n",
    "label1.place(relx=0.05,rely=0.2, relheight=0.08)\n",
    "\n",
    "text = Entry(Frame1,font=('Century 12'))\n",
    "text.place(relx=0.05,rely=0.4, relwidth=1, relheight=0.2)"
   ]
  },
  {
   "cell_type": "code",
   "execution_count": 12,
   "id": "80e973b8",
   "metadata": {},
   "outputs": [],
   "source": [
    "#Getting input of the location to save QR Code\n",
    "Frame2 = Frame(wn,bg=\"Black\")\n",
    "Frame2.place(relx=0.1,rely=0.35,relwidth=0.7,relheight=0.3)\n",
    "\n",
    "label2 = Label(Frame2,text=\"Enter the location to save the QR Code: \",bg=\"Black\",fg='azure',font=('Courier',13,'bold'))\n",
    "label2.place(relx=0.05,rely=0.2, relheight=0.08)\n",
    "\n",
    "loc = Entry(Frame2,font=('Century 12'))\n",
    "loc.place(relx=0.05,rely=0.4, relwidth=1, relheight=0.2)"
   ]
  },
  {
   "cell_type": "code",
   "execution_count": 13,
   "id": "08c70ec2",
   "metadata": {},
   "outputs": [],
   "source": [
    "#Getting input of the QR Code image name\n",
    "Frame3 = Frame(wn,bg=\"Black\")\n",
    "Frame3.place(relx=0.1,rely=0.55,relwidth=0.7,relheight=0.3)\n",
    "\n",
    "label3 = Label(Frame3,text=\"Enter the name of the QR Code: \",bg=\"Black\",fg='azure',font=('Courier',13,'bold'))\n",
    "label3.place(relx=0.05,rely=0.2, relheight=0.08)\n",
    "\n",
    "name = Entry(Frame3,font=('Century 12'))\n",
    "name.place(relx=0.05,rely=0.4, relwidth=1, relheight=0.2)"
   ]
  },
  {
   "cell_type": "code",
   "execution_count": 14,
   "id": "f056df75",
   "metadata": {},
   "outputs": [],
   "source": [
    "#Getting the input of the size of the QR Code\n",
    "Frame4 = Frame(wn,bg=\"Black\")\n",
    "Frame4.place(relx=0.1,rely=0.75,relwidth=0.7,relheight=0.2)\n",
    "\n",
    "label4 = Label(Frame4,text=\"Enter the size from 1 to 40 with 1 being 21x21: \",bg=\"Black\",fg='azure',font=('Courier',13,'bold'))\n",
    "label4.place(relx=0.05,rely=0.2, relheight=0.08)\n",
    "\n",
    "size = Entry(Frame4,font=('Century 12'))\n",
    "size.place(relx=0.05,rely=0.4, relwidth=0.5, relheight=0.2)"
   ]
  },
  {
   "cell_type": "code",
   "execution_count": 15,
   "id": "21569eeb",
   "metadata": {},
   "outputs": [],
   "source": [
    "#Button to generate and save the QR Code\n",
    "button = Button(wn, text='Generate Code',font=('Courier',15,'normal'),command=generateCode)\n",
    "button.place(relx=0.35,rely=0.9, relwidth=0.25, relheight=0.05)"
   ]
  },
  {
   "cell_type": "code",
   "execution_count": 16,
   "id": "7776711d",
   "metadata": {},
   "outputs": [],
   "source": [
    "#Runs the window till it is closed manually\n",
    "wn.mainloop()"
   ]
  },
  {
   "cell_type": "code",
   "execution_count": null,
   "id": "cac0584c",
   "metadata": {},
   "outputs": [],
   "source": []
  }
 ],
 "metadata": {
  "kernelspec": {
   "display_name": "Python 3 (ipykernel)",
   "language": "python",
   "name": "python3"
  },
  "language_info": {
   "codemirror_mode": {
    "name": "ipython",
    "version": 3
   },
   "file_extension": ".py",
   "mimetype": "text/x-python",
   "name": "python",
   "nbconvert_exporter": "python",
   "pygments_lexer": "ipython3",
   "version": "3.9.13"
  }
 },
 "nbformat": 4,
 "nbformat_minor": 5
}
